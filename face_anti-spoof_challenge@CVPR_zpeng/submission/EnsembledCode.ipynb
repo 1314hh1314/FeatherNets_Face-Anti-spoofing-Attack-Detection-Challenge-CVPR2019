{
 "cells": [
  {
   "cell_type": "code",
   "execution_count": 52,
   "metadata": {},
   "outputs": [],
   "source": [
    "\n",
    "def splitscore(file_dir):\n",
    "    score = []\n",
    "    Prefix_str = []\n",
    "    f = open(file_dir)\n",
    "    for line in f:\n",
    "        s =line.split()\n",
    "        score.append(float(s[-1]))\n",
    "        s = s[0] + ' ' + s[1] + ' ' + s[2] + ' '\n",
    "        Prefix_str.append(s)\n",
    "    return score,Prefix_str"
   ]
  },
  {
   "cell_type": "code",
   "execution_count": 183,
   "metadata": {},
   "outputs": [
    {
     "name": "stdout",
     "output_type": "stream",
     "text": [
      "3.238889e-05\n"
     ]
    }
   ],
   "source": [
    "file_dir1='2019-01-28_15:45:05_fishnet150_52_submission.txt'\n",
    "score1,Prefix_str = splitscore(file_dir1)\n",
    "file_dir2 = '2019-02-13_15:22:05_LNet34-se_69_submission.txt'\n",
    "score2,Prefix_str = splitscore(file_dir2)\n",
    "# print(Prefix_str[1])\n",
    "file_dir3 = '2019-02-13_14:23:19_fishnet150_11_submission.txt'\n",
    "score3,Prefix_str = splitscore(file_dir2)\n",
    "file_dir4 = '2019-02-13_13:30:12_LNet34_41_submission.txt'\n",
    "score4,Prefix_str = splitscore(file_dir4)\n",
    "file_dir5 = '2019-02-13_14:13:43_fishnet150_16_submission.txt'\n",
    "score5,Prefix_str = splitscore(file_dir5)\n",
    "# \n",
    "file_dir6 = '2019-02-16_19:31:04_moilenetv2_5_submission.txt'\n",
    "score6,Prefix_str = splitscore(file_dir5)\n",
    "file_dir7 = '2019-02-16_19:30:02_moilenetv2_7_submission.txt'\n",
    "score7,Prefix_str = splitscore(file_dir5)\n",
    "file_dir8 = ' 2019-02-16_19:28:47_moilenetv2_6_submission.txt'\n",
    "score8,Prefix_str = splitscore(file_dir5)\n",
    "scores = [score1,score2,score3,score4,score6,score7,score8]\n",
    "print(scores[0][0])"
   ]
  },
  {
   "cell_type": "code",
   "execution_count": 184,
   "metadata": {},
   "outputs": [
    {
     "name": "stdout",
     "output_type": "stream",
     "text": [
      "9608\n",
      "0.0009565746\n"
     ]
    }
   ],
   "source": [
    "\n",
    "def Average(lst): \n",
    "    return sum(lst) / len(lst) \n",
    "ensembled_score  = []\n",
    "for i in range(len(score1)):\n",
    "    line_socres = [scores[j][i] for j in range(len(scores))]\n",
    "    mean_socre = Average(line_socres)\n",
    "    if mean_socre > 0.6:\n",
    "#     if scores[0][i] > 0.7:\n",
    "        ensembled_score.append(max(line_socres))\n",
    "    else:\n",
    "        ensembled_score.append(min(line_socres))\n",
    "print(len(Prefix_str))\n",
    "print(ensembled_score[9607])"
   ]
  },
  {
   "cell_type": "code",
   "execution_count": 156,
   "metadata": {},
   "outputs": [],
   "source": [
    "submission_ensembled_file_dir='3submission_0.6.txt'\n",
    "ensembled_file = open(submission_ensembled_file_dir,'a')\n",
    "for i in range(len(ensembled_score)):\n",
    "    ensembled_file.write(Prefix_str[i]+str(ensembled_score[i])+'\\n')\n",
    "ensembled_file.close()    "
   ]
  },
  {
   "cell_type": "markdown",
   "metadata": {},
   "source": [
    "ensembled result\n",
    "52 69 11                    mean  0.0020 (2)\t1.0000 (1)\t0.9997 (1)\t0.9920 (1)  0  26\n",
    "52 69 11                    (52)  0.0018 (1)\t1.0000 (1)\t0.9997 (1)\t0.9920 (1)  0  24\n",
    "52 69 11                    0.8   0.0005 (1)\t1.0000 (1)\t1.0000 (1)\t0.9930 (1)  0  6\n",
    "52 69 11 41                 0.9   0.0005 (1)\t1.0000 (1)\t1.0000 (1)\t0.9967 (1)  0  6\n",
    "52 69 11 41 16              0.7   0.0002 (1)\t1.0000 (1)\t1.0000 (1)\t0.9943 (1)  3  0  s0.7\n",
    "52 69 11 41 16              0.93  0.0018 (1)\t1.0000 (1)\t1.0000 (1)\t0.9986 (1)  0  11\n",
    "52 69 11 41 16              0.65  0.0004 (3)\t1.0000 (1)\t1.0000 (1)\t0.9943 (3)  0  5\n",
    "52 69 11 41 16              0.95  0.0005 (1)\t1.0000 (1)\t1.0000 (1)\t0.9965 (1)  0  11 \n",
    "52 69 11 41 16  m5 m7 m6    0.7   0.0012 (1)\t1.0000 (1)\t1.0000 (1)\t0.9986 (1)  0  7  2s0.7\n",
    "52 69 11 41     m5 m7 m6    0.7   0.0005 (1)\t1.0000 (1)\t1.0000 (1)\t0.9993 (1)  0  3  3s0.7\n",
    "52 69 11 41     m5 m7 m6    0.6   0.0000 (1)\t1.0000 (1)\t1.0000 (1)\t1.0    (1)  0  0  3s0.6"
   ]
  },
  {
   "cell_type": "code",
   "execution_count": 157,
   "metadata": {},
   "outputs": [
    {
     "name": "stdout",
     "output_type": "stream",
     "text": [
      "9608\n",
      "0\n"
     ]
    }
   ],
   "source": [
    "file_dir1='3submission_0.6.txt'\n",
    "score1,Prefix_str = splitscore(file_dir1)\n",
    "scores = [score1]\n",
    "def Average(lst): \n",
    "    return sum(lst) / len(lst) \n",
    "ensembled_score  = []\n",
    "for i in range(len(score1)):\n",
    "    line_socres = [scores[j][i] for j in range(len(scores))]\n",
    "    mean_socre = Average(line_socres)\n",
    "    if mean_socre > 0.5:\n",
    "#     if scores[0][i] > 0.7:\n",
    "        ensembled_score.append(1)\n",
    "    else:\n",
    "        ensembled_score.append(0)\n",
    "print(len(Prefix_str))\n",
    "print(ensembled_score[9607])\n",
    "stand_scores = ensembled_score\n",
    "submission_ensembled_file_dir='val_label.txt'\n",
    "ensembled_file = open(submission_ensembled_file_dir,'a')\n",
    "for i in range(len(ensembled_score)):\n",
    "    ensembled_file.write(Prefix_str[i]+str(ensembled_score[i])+'\\n')\n",
    "ensembled_file.close() "
   ]
  },
  {
   "cell_type": "code",
   "execution_count": 185,
   "metadata": {},
   "outputs": [
    {
     "name": "stdout",
     "output_type": "stream",
     "text": [
      "0\n"
     ]
    }
   ],
   "source": [
    "count = 0\n",
    "for i in range(len(stand_scores)):\n",
    "    if stand_scores[i] ==(ensembled_score[i]>0.5):\n",
    "        pass\n",
    "    else:\n",
    "        count = count + 1\n",
    "print(count)"
   ]
  }
 ],
 "metadata": {
  "kernelspec": {
   "display_name": "Python 3",
   "language": "python",
   "name": "python3"
  },
  "language_info": {
   "codemirror_mode": {
    "name": "ipython",
    "version": 3
   },
   "file_extension": ".py",
   "mimetype": "text/x-python",
   "name": "python",
   "nbconvert_exporter": "python",
   "pygments_lexer": "ipython3",
   "version": "3.6.8"
  }
 },
 "nbformat": 4,
 "nbformat_minor": 2
}
